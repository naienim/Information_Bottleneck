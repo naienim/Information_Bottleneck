{
  "cells": [
    {
      "cell_type": "markdown",
      "metadata": {},
      "source": [
        "<div style=\"display:block;width:100%;margin:auto;\" direction=rtl align=center><br><br>\n",
        "    <div  style=\"width:100%;margin:100;display:block;background-color:#fff0;\"  display=block align=center>\n",
        "        <table style=\"border-style:hidden;border-collapse:collapse;\">\n",
        "            <tr>\n",
        "                <td  style=\"border: none!important;\">\n",
        "                    <img width=130 align=right src=\"https://i.ibb.co/yXKQmtZ/logo1.png\" style=\"margin:0;\" />\n",
        "                </td>\n",
        "                <td style=\"text-align:center;border: none!important;\">\n",
        "                    <h1 align=center><font size=5 color=\"skyblue\">University of Tehran</i></font></h1>\n",
        "                </td>\n",
        "                <td style=\"border: none!important;\">\n",
        "                    <img width=170 align=left  src=\"https://i.ibb.co/wLjqFkw/logo2.png\" style=\"margin:0;\" />\n",
        "                </td>\n",
        "            </tr>\n",
        "        </table>\n",
        "    </div>\n",
        "</div>"
      ]
    },
    {
      "cell_type": "markdown",
      "metadata": {},
      "source": [
        "## Information Bottleneck Methods: IB and DIB Algorithms"
      ]
    },
    {
      "cell_type": "markdown",
      "metadata": {},
      "source": [
        "$\n",
        "\\textbf{Libraries and Functions: }\n",
        "$"
      ]
    },
    {
      "cell_type": "code",
      "execution_count": null,
      "metadata": {
        "id": "7yTSJ5Q-S5Rg"
      },
      "outputs": [],
      "source": [
        "import numpy as np\n",
        "import matplotlib.pyplot as plt\n",
        "from tqdm import tqdm"
      ]
    },
    {
      "cell_type": "code",
      "execution_count": null,
      "metadata": {
        "id": "7lPz1ktRS5Ri"
      },
      "outputs": [],
      "source": [
        "def kl_divergence(p, q):\n",
        "    p = np.clip(p, 1e-12, None)\n",
        "    q = np.clip(q, 1e-12, None)\n",
        "    return np.sum(p * np.log(p / q))\n",
        "\n",
        "def entropy(p):\n",
        "    p = np.clip(p, 1e-12, None)\n",
        "    return -np.sum(p * np.log(p))\n",
        "\n",
        "def mutual_information(px_y):\n",
        "    px = np.sum(px_y, axis=1)\n",
        "    py = np.sum(px_y, axis=0)\n",
        "    px_y_product = np.outer(px, py)\n",
        "    return kl_divergence(px_y.flatten(), px_y_product.flatten())"
      ]
    },
    {
      "cell_type": "markdown",
      "metadata": {
        "id": "2EbnF2PsS5Rj"
      },
      "source": [
        "$\n",
        "\\textbf{Algorithm 1 - The information bottleneck (IB) method: } \\\\\n",
        "\\textbf{} \\\\\n",
        "\\textbf{Given: } p(x, y), \\beta \\geq 0 \\\\\n",
        "\\textbf{Initialize: } q^{(0)}(t \\mid x) \\\\\n",
        "\\textbf{} q^{(0)}(t) = \\sum_x p(x) q^{(0)}(t \\mid x) \\\\\n",
        "\\textbf{} q^{(0)}(y \\mid t) = \\frac{1}{q^{(0)}(t)} \\sum_x p(x, y) q^{(0)}(t \\mid x) \\\\\n",
        "\\textbf{} n = 0 \\\\\n",
        "\\textbf{While not converged do} \\\\\n",
        "\\quad \\textbf{} n = n + 1 \\\\\n",
        "\\quad \\textbf{} q^{(n)}(t \\mid x) = \\frac{q^{(n-1)}(t)}{Z(x, \\beta)} \\exp\\left(-\\beta D_{\\text{KL}}[p(y \\mid x) \\| q^{(n-1)}(y \\mid t)]\\right) \\\\\n",
        "\\quad \\textbf{} q^{(n)}(t) = \\sum_x p(x) q^{(n)}(t \\mid x) \\\\\n",
        "\\quad \\textbf{} q^{(n)}(y \\mid t) = \\frac{1}{q^{(n)}(t)} \\sum_x q^{(n)}(t \\mid x) p(x, y) \\\\\n",
        "\\textbf{End while} \\\\\n",
        "$"
      ]
    },
    {
      "cell_type": "code",
      "execution_count": null,
      "metadata": {
        "id": "iO6vZPNeS5Rj"
      },
      "outputs": [],
      "source": [
        "def information_bottleneck(px_y, beta, num_clusters, limit_iter=10, max_iter=10000, tolerance=1e-6, verbose=1):\n",
        "    px = np.sum(px_y, axis=1)\n",
        "    py = np.sum(px_y, axis=0)\n",
        "    qt_if_x = np.random.rand(num_clusters, px_y.shape[0])\n",
        "    qt_if_x /= np.sum(qt_if_x, axis=0, keepdims=True)\n",
        "    qt = np.dot(qt_if_x, px)\n",
        "    qy_if_t = np.dot(px_y.T, qt_if_x.T) / qt\n",
        "\n",
        "    for iteration in range(max_iter):\n",
        "\n",
        "        dkl_values = np.zeros((px_y.shape[0], num_clusters))\n",
        "        for t in range(num_clusters):\n",
        "            for x in range(px_y.shape[0]):\n",
        "                dkl_values[x, t] = kl_divergence(px_y[x, :] / px[x], qy_if_t[:, t])\n",
        "\n",
        "        new_qt_if_x = np.exp(-beta * dkl_values.T) * qt[:, np.newaxis]\n",
        "        new_qt_if_x /= np.sum(new_qt_if_x, axis=0, keepdims=True)\n",
        "\n",
        "        if ((np.linalg.norm(new_qt_if_x - qt_if_x) <= tolerance) and (iteration >= limit_iter)):\n",
        "            green_text = \"\\033[32m\"\n",
        "            reset_text = \"\\033[0m\"\n",
        "            if(verbose==1):\n",
        "                print(f\"{green_text}Converged after {iteration} iterations.{reset_text}\")\n",
        "            break\n",
        "\n",
        "        qt_if_x = new_qt_if_x\n",
        "        qt = np.dot(qt_if_x, px)\n",
        "        qy_if_t = np.dot(px_y.T, qt_if_x.T) / qt\n",
        "\n",
        "    else:\n",
        "        red_text = \"\\033[31m\"\n",
        "        reset_text = \"\\033[0m\"\n",
        "        print(f\"{red_text}Did not converge within {max_iter} iterations.{reset_text}\")\n",
        "\n",
        "    return qt_if_x, qt, qy_if_t"
      ]
    },
    {
      "cell_type": "code",
      "execution_count": null,
      "metadata": {
        "id": "F0AK8IpUS5Rk",
        "outputId": "2070639a-113f-4487-856d-27c1bd408c1a"
      },
      "outputs": [
        {
          "name": "stdout",
          "output_type": "stream",
          "text": [
            "px_y: \n",
            " [[0.31516537 0.22995196]\n",
            " [0.1600234  0.29485927]]\n",
            "--------------------------------------------------------------\n",
            "\u001b[32mConverged after 10 iterations.\u001b[0m\n",
            "--------------------------------------------------------------\n",
            "q(t|x): \n",
            " [[0.36055933 0.36055933]\n",
            " [0.36325774 0.36325774]\n",
            " [0.27618294 0.27618294]]\n",
            "--------------------------------------------------------------\n",
            "q(t): \n",
            " [0.36055933 0.36325774 0.27618294]\n",
            "--------------------------------------------------------------\n",
            "q(y|t): \n",
            " [[0.47518877 0.47518877 0.47518877]\n",
            " [0.52481123 0.52481123 0.52481123]]\n",
            "--------------------------------------------------------------\n"
          ]
        }
      ],
      "source": [
        "px_y = np.random.uniform(0, 1, size=(2, 2))\n",
        "px_y /= px_y.sum()\n",
        "print(\"px_y: \\n\", px_y)\n",
        "print(\"--------------------------------------------------------------\")\n",
        "\n",
        "beta = 0\n",
        "num_clusters = 3\n",
        "\n",
        "qt_if_x, qt, qy_if_t = information_bottleneck(px_y, beta, num_clusters)\n",
        "\n",
        "print(\"--------------------------------------------------------------\")\n",
        "print(\"q(t|x): \\n\", qt_if_x)\n",
        "print(\"--------------------------------------------------------------\")\n",
        "print(\"q(t): \\n\", qt)\n",
        "print(\"--------------------------------------------------------------\")\n",
        "print(\"q(y|t): \\n\", qy_if_t)\n",
        "print(\"--------------------------------------------------------------\")"
      ]
    },
    {
      "cell_type": "code",
      "execution_count": null,
      "metadata": {
        "id": "Fgmtc9pxS5Rk"
      },
      "outputs": [],
      "source": [
        "def compute_ib_scatter(px_y, beta_values, num_clusters, limit_iter=10, max_iter=10000, tolerance=1e-6):\n",
        "    I_X_T_values = []\n",
        "    I_T_Y_values = []\n",
        "\n",
        "    px = np.sum(px_y, axis=1)\n",
        "\n",
        "    for beta in tqdm(beta_values, desc=\"Processing Beta Values\"):\n",
        "        qt_if_x, qt, qy_if_t = information_bottleneck(\n",
        "            px_y, beta, num_clusters, limit_iter, max_iter, tolerance, 0)\n",
        "\n",
        "        qt_x = qt_if_x * px\n",
        "        I_X_T = mutual_information(qt_x)\n",
        "        qy_t = qy_if_t * qt\n",
        "        I_T_Y = mutual_information(qy_t)\n",
        "\n",
        "        I_X_T_values.append(I_X_T)\n",
        "        I_T_Y_values.append(I_T_Y)\n",
        "\n",
        "    return np.array(I_X_T_values), np.array(I_T_Y_values)"
      ]
    },
    {
      "cell_type": "code",
      "execution_count": null,
      "metadata": {
        "id": "HzAu-4vXS5Rk",
        "outputId": "6fd2efbf-67f2-4867-fdf7-5d6f29760a05"
      },
      "outputs": [
        {
          "name": "stderr",
          "output_type": "stream",
          "text": [
            "Processing Beta Values: 100%|██████████| 1000/1000 [00:06<00:00, 149.15it/s]\n"
          ]
        },
        {
          "data": {
            "text/plain": [
              "[<matplotlib.lines.Line2D at 0x1f2b3569b80>]"
            ]
          },
          "execution_count": 461,
          "metadata": {},
          "output_type": "execute_result"
        },
        {
          "data": {
            "image/png": "[encoded data removed]",
            "text/plain": [
              "<Figure size 640x480 with 1 Axes>"
            ]
          },
          "metadata": {},
          "output_type": "display_data"
        }
      ],
      "source": [
        "px_y = np.random.uniform(0, 1, size=(3, 4))\n",
        "px_y /= px_y.sum()\n",
        "I_X_Y = mutual_information(px_y)\n",
        "\n",
        "beta_values = np.linspace(0, 100, 1000)\n",
        "num_clusters = 3\n",
        "\n",
        "I_X_T_values, I_T_Y_values = compute_ib_scatter(px_y, beta_values, num_clusters)\n",
        "\n",
        "sorted_indices = np.argsort(I_X_T_values)\n",
        "\n",
        "plt.plot(I_X_T_values[sorted_indices], I_T_Y_values[sorted_indices], color='black')\n",
        "plt.plot([I_X_T_values.min(), I_X_T_values.max()],\n",
        "        [I_X_Y, I_X_Y], color='red', linestyle='--', linewidth=2)"
      ]
    },
    {
      "cell_type": "markdown",
      "metadata": {
        "id": "sTUphYdJS5Rl"
      },
      "source": [
        "$\n",
        "\\textbf{Algorithm 2 - The deterministic information bottleneck (DIB) method:} \\\\\n",
        "\\textbf{} \\\\\n",
        "\\textbf{Given: } p(x, y), \\beta \\geq 0 \\\\\n",
        "\\textbf{Initialize } f^{(0)}(x) \\\\\n",
        "\\textbf{Set } q^{(0)}(t) = \\sum_{x : f^{(0)}(x) = t} p(x) \\\\\n",
        "\\textbf{Set } q^{(0)}(y \\mid t) = \\frac{\\sum_{x : f^{(0)}(x) = t} p(x, y)}{\\sum_{x : f^{(0)}(x) = t} p(x)} \\\\\n",
        "\\textbf{} n = 0 \\\\\n",
        "\\textbf{While not converged do} \\\\\n",
        "\\quad \\textbf{} n = n + 1 \\\\\n",
        "\\quad \\textbf{} d^{(n-1)}(x, t) = D_{\\text{KL}} \\left[ p(y \\mid x) \\| q^{(n-1)}(y \\mid t) \\right] \\\\\n",
        "\\quad \\textbf{} \\ell^{(n-1)}_\\beta(x, t) = \\log q(t) - \\beta d^{(n-1)}(x, t) \\\\\n",
        "\\quad \\textbf{} f^{(n)}(x) = \\arg\\max_t \\ell^{(n-1)}_\\beta(x, t) \\\\\n",
        "\\quad \\textbf{} q^{(n)}(t) = \\sum_{x : f^{(n)}(x) = t} p(x) \\\\\n",
        "\\quad \\textbf{} q^{(n)}(y \\mid t) = \\frac{\\sum_{x : f^{(n)}(x) = t} p(x, y)}{\\sum_{x : f^{(n)}(x) = t} p(x)} \\\\\n",
        "\\textbf{End while} \\\\\n",
        "$\n"
      ]
    },
    {
      "cell_type": "code",
      "execution_count": null,
      "metadata": {
        "id": "QK9rApTKS5Rl"
      },
      "outputs": [],
      "source": [
        "def deterministic_information_bottleneck(px_y, beta, num_clusters, limit_iter=10, max_iter=10000, verbose=1):\n",
        "    px = np.sum(px_y, axis=1)\n",
        "    py = np.sum(px_y, axis=0)\n",
        "    fx = np.random.randint(0,num_clusters,size=px_y.shape[0])\n",
        "\n",
        "    qt = np.zeros(num_clusters)\n",
        "    for t in range(num_clusters):\n",
        "        qt[t] = np.sum(px[fx==t])\n",
        "\n",
        "    qy_if_t = np.zeros((px_y.shape[1],num_clusters))\n",
        "    for t in range(num_clusters):\n",
        "        if qt[t] == 0:\n",
        "            continue\n",
        "        qy_if_t[:, t] = np.sum(px_y[fx == t,:],axis=0) / qt[t]\n",
        "\n",
        "    for iteration in range(max_iter):\n",
        "        dkl_values = np.zeros((px_y.shape[0], num_clusters))\n",
        "        lbeta_values = np.zeros((px_y.shape[0], num_clusters))\n",
        "        for t in range(num_clusters):\n",
        "            if (qt[t] == 0):\n",
        "                continue\n",
        "            for x in range(px_y.shape[0]):\n",
        "                dkl_values[x, t] = kl_divergence(px_y[x, :] / px[x], qy_if_t[:, t])\n",
        "                lbeta_values[x, t] = np.log(qt[t]) - beta * dkl_values[x, t]\n",
        "\n",
        "        new_fx = np.argmax(lbeta_values, axis=1)\n",
        "\n",
        "        if (np.all(new_fx == fx) and (iteration >= limit_iter)):\n",
        "            green_text = \"\\033[32m\"\n",
        "            reset_text = \"\\033[0m\"\n",
        "            if(verbose==1):\n",
        "                print(f\"{green_text}Converged after {iteration} iterations.{reset_text}\")\n",
        "            break\n",
        "\n",
        "        fx = new_fx\n",
        "\n",
        "        qt = np.zeros(num_clusters)\n",
        "        for t in range(num_clusters):\n",
        "            qt[t] = np.sum(px[fx == t])\n",
        "\n",
        "        qy_if_t = np.zeros((px_y.shape[1],num_clusters))\n",
        "        for t in range(num_clusters):\n",
        "            if qt[t] == 0:\n",
        "                continue\n",
        "            qy_if_t[:, t] = np.sum(px_y[fx == t,:],axis=0) / qt[t]\n",
        "\n",
        "    else:\n",
        "        red_text = \"\\033[31m\"\n",
        "        reset_text = \"\\033[0m\"\n",
        "        print(f\"{red_text}Did not converge within {max_iter} iterations.{reset_text}\")\n",
        "\n",
        "    return fx, qt, qy_if_t"
      ]
    },
    {
      "cell_type": "code",
      "execution_count": null,
      "metadata": {
        "id": "ZdLK2wUpS5Rl",
        "outputId": "b5e1bbce-45a0-4ff9-cbcf-1d8b665231e1"
      },
      "outputs": [
        {
          "name": "stdout",
          "output_type": "stream",
          "text": [
            "px_y: \n",
            " [[0.07121025 0.03226959 0.09592668 0.00307234]\n",
            " [0.06079856 0.12094485 0.18445827 0.13613314]\n",
            " [0.10257882 0.08412805 0.08766761 0.02081184]]\n",
            "--------------------------------------------------------------\n",
            "\u001b[32mConverged after 10 iterations.\u001b[0m\n",
            "--------------------------------------------------------------\n",
            "f(x): \n",
            " [0 0 0]\n",
            "--------------------------------------------------------------\n",
            "q(t): \n",
            " [1. 0. 0.]\n",
            "--------------------------------------------------------------\n",
            "q(y|t): \n",
            " [[0.23458763 0.         0.        ]\n",
            " [0.23734249 0.         0.        ]\n",
            " [0.36805256 0.         0.        ]\n",
            " [0.16001732 0.         0.        ]]\n",
            "--------------------------------------------------------------\n"
          ]
        }
      ],
      "source": [
        "px_y = np.random.uniform(0, 1, size=(3, 4))\n",
        "px_y /= px_y.sum()\n",
        "print(\"px_y: \\n\", px_y)\n",
        "print(\"--------------------------------------------------------------\")\n",
        "\n",
        "beta = 0\n",
        "num_clusters = 3\n",
        "\n",
        "fx, qt, qy_if_t = deterministic_information_bottleneck(px_y, beta, num_clusters)\n",
        "\n",
        "print(\"--------------------------------------------------------------\")\n",
        "print(\"f(x): \\n\", fx)\n",
        "print(\"--------------------------------------------------------------\")\n",
        "print(\"q(t): \\n\", qt)\n",
        "print(\"--------------------------------------------------------------\")\n",
        "print(\"q(y|t): \\n\", qy_if_t)\n",
        "print(\"--------------------------------------------------------------\")"
      ]
    }
  ],
  "metadata": {
    "colab": {
      "provenance": []
    },
    "kernelspec": {
      "display_name": "Python 3",
      "language": "python",
      "name": "python3"
    },
    "language_info": {
      "codemirror_mode": {
        "name": "ipython",
        "version": 3
      },
      "file_extension": ".py",
      "mimetype": "text/x-python",
      "name": "python",
      "nbconvert_exporter": "python",
      "pygments_lexer": "ipython3",
      "version": "3.12.4"
    }
  },
  "nbformat": 4,
  "nbformat_minor": 0
}
